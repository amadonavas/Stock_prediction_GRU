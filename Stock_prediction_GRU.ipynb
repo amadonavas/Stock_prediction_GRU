{
 "cells": [
  {
   "cell_type": "markdown",
   "id": "7df3a0cd",
   "metadata": {},
   "source": [
    "# Import the libraries"
   ]
  },
  {
   "cell_type": "code",
   "execution_count": 1,
   "id": "fe54b26a",
   "metadata": {},
   "outputs": [],
   "source": [
    "import numpy as np\n",
    "import pandas as pd\n",
    "import matplotlib.pyplot as plt\n",
    "import torch \n",
    "import torch.nn as nn\n",
    "from torch.utils.data import Dataset, DataLoader"
   ]
  },
  {
   "cell_type": "markdown",
   "id": "2997c522",
   "metadata": {},
   "source": [
    "# We import the data and conduct a study of it's health"
   ]
  },
  {
   "cell_type": "code",
   "execution_count": 2,
   "id": "2ce64c2e",
   "metadata": {},
   "outputs": [
    {
     "name": "stdout",
     "output_type": "stream",
     "text": [
      "<class 'pandas.core.frame.DataFrame'>\n",
      "RangeIndex: 10680 entries, 0 to 10679\n",
      "Data columns (total 7 columns):\n",
      " #   Column          Non-Null Count  Dtype  \n",
      "---  ------          --------------  -----  \n",
      " 0   Date            10680 non-null  object \n",
      " 1   Low             10680 non-null  float64\n",
      " 2   Open            10680 non-null  float64\n",
      " 3   Volume          10680 non-null  int64  \n",
      " 4   High            10680 non-null  float64\n",
      " 5   Close           10680 non-null  float64\n",
      " 6   Adjusted Close  10680 non-null  float64\n",
      "dtypes: float64(5), int64(1), object(1)\n",
      "memory usage: 584.2+ KB\n"
     ]
    }
   ],
   "source": [
    "#We'll be conducting a study of the JP Morgan stock, we proceed to load it\n",
    "data = pd.read_csv('./stock_market_data/nyse/csv/JPM.csv')\n",
    "data.info()"
   ]
  },
  {
   "cell_type": "code",
   "execution_count": 3,
   "id": "1eda37ab",
   "metadata": {},
   "outputs": [],
   "source": [
    "#We want to only select the closing price as a target\n",
    "data_target = data.Close"
   ]
  },
  {
   "cell_type": "code",
   "execution_count": 4,
   "id": "3687d66e",
   "metadata": {},
   "outputs": [
    {
     "data": {
      "image/png": "[encoded data removed]",
      "text/plain": [
       "<Figure size 432x288 with 1 Axes>"
      ]
     },
     "metadata": {
      "needs_background": "light"
     },
     "output_type": "display_data"
    }
   ],
   "source": [
    "#We can also see the data graphically\n",
    "plt.plot(data_target, label = 'Price')\n",
    "plt.show()\n",
    "plt.close()"
   ]
  },
  {
   "cell_type": "code",
   "execution_count": 5,
   "id": "e4eb999d",
   "metadata": {},
   "outputs": [],
   "source": [
    "#We now want to normalize the data\n",
    "max_value = data_target.max()\n",
    "min_value = data_target.min()\n",
    "normalized_data = (data_target - min_value)/(max_value)\n",
    "normalized_data = normalized_data.values.reshape(-1,1)"
   ]
  },
  {
   "cell_type": "code",
   "execution_count": 6,
   "id": "0ed29c44",
   "metadata": {},
   "outputs": [],
   "source": [
    "#We create a function to undo the normalization\n",
    "def denormalizer(value):\n",
    "    return (value*max_value) + min_value"
   ]
  },
  {
   "cell_type": "markdown",
   "id": "d0439433",
   "metadata": {},
   "source": [
    "# We separate the data in train and test as well as creater the sequences"
   ]
  },
  {
   "cell_type": "code",
   "execution_count": 7,
   "id": "0d48240d",
   "metadata": {},
   "outputs": [],
   "source": [
    "#We create a function that splits the data in 80-20 for train and test as well as create the sequences.\n",
    "#We'll also turn the data into numpy arrray to later be turned into a torch.tensor\n",
    "def preparer(dataset, lookback):\n",
    "    data_raw = dataset\n",
    "    data =[]\n",
    "    for index in range(len(data_raw)-lookback):\n",
    "        data.append(data_raw[index:index+lookback])\n",
    "        \n",
    "    data = np.array(data);\n",
    "    test_set_size = int(np.round(0.2*data.shape[0]));\n",
    "    train_set_size = data.shape[0] - (test_set_size);\n",
    "    \n",
    "    data = np.array(data)\n",
    "    x_train = data[:train_set_size,:-1]\n",
    "    y_train = data[:train_set_size,-1]\n",
    "    \n",
    "    x_test = data[train_set_size:,:-1]\n",
    "    y_test = data[train_set_size:,-1]\n",
    "    \n",
    "    return [x_train, y_train, x_test, y_test]"
   ]
  },
  {
   "cell_type": "code",
   "execution_count": 8,
   "id": "29e7b208",
   "metadata": {},
   "outputs": [],
   "source": [
    "lookback = 30 # we chose a sequence lenght of 30 to make it about a month of prediction\n",
    "x_train, y_train, x_test, y_test = preparer(normalized_data, lookback)"
   ]
  },
  {
   "cell_type": "code",
   "execution_count": 9,
   "id": "b9caa7b3",
   "metadata": {},
   "outputs": [
    {
     "name": "stdout",
     "output_type": "stream",
     "text": [
      "x_train.shape =  (8520, 29, 1)\n",
      "y_train.shape =  (8520, 1)\n",
      "x_test.shape =  (2130, 29, 1)\n",
      "y_test.shape =  (2130, 1)\n"
     ]
    }
   ],
   "source": [
    "print('x_train.shape = ',x_train.shape)\n",
    "print('y_train.shape = ',y_train.shape)\n",
    "print('x_test.shape = ',x_test.shape)\n",
    "print('y_test.shape = ',y_test.shape)"
   ]
  },
  {
   "cell_type": "markdown",
   "id": "b2341a95",
   "metadata": {},
   "source": [
    "# Custom dataset that transforms into tensors"
   ]
  },
  {
   "cell_type": "code",
   "execution_count": 10,
   "id": "9858bfc2",
   "metadata": {},
   "outputs": [],
   "source": [
    "class StockDataset(Dataset):\n",
    "    def __init__(self, x, y):\n",
    "        self.x = torch.from_numpy(x).float()\n",
    "        self.y = torch.from_numpy(y).float()\n",
    "        #self.y = torch.unsqueeze(torch.from_numpy(y), dim = -1).float()\n",
    "        \n",
    "    def __len__(self):\n",
    "        return len(self.y)\n",
    "    \n",
    "    def __getitem__(self, idx):\n",
    "        return (self.x[idx], self.y[idx])"
   ]
  },
  {
   "cell_type": "code",
   "execution_count": 11,
   "id": "95c32636",
   "metadata": {},
   "outputs": [],
   "source": [
    "#We now create the datasets instances for loading the training and testing data and also the dataloaders instances\n",
    "train_dataset = StockDataset(x_train,y_train)\n",
    "test_dataset = StockDataset(x_test, y_test)\n",
    "train = DataLoader(train_dataset, batch_size = 6)\n",
    "test = DataLoader(test_dataset, batch_size = 6)"
   ]
  },
  {
   "cell_type": "markdown",
   "id": "d2b3f740",
   "metadata": {},
   "source": [
    "# GRU class "
   ]
  },
  {
   "cell_type": "code",
   "execution_count": 12,
   "id": "225b7784",
   "metadata": {},
   "outputs": [],
   "source": [
    "class GRU(nn.Module):\n",
    "    def __init__(self, input_dim, hidden_dim, num_layers, output_dim, dropout = 0):\n",
    "        super(GRU, self).__init__()\n",
    "        self.input_dim = input_dim\n",
    "        self.hidden_dim = hidden_dim\n",
    "        self.num_layers = num_layers\n",
    "        self.dropout = dropout\n",
    "        self.output_dim = output_dim\n",
    "        \n",
    "        self.gru = nn.GRU(input_dim, hidden_dim, num_layers, batch_first=True, dropout = 0)\n",
    "        self.fc = nn.Linear(hidden_dim, output_dim)\n",
    "\n",
    "    def forward(self, x):\n",
    "        h0 = torch.zeros(self.num_layers, x.size(0), self.hidden_dim).requires_grad_()\n",
    "        out, (hn) = self.gru(x, (h0.detach()))\n",
    "        out = self.fc(out[:, -1]) \n",
    "        return out"
   ]
  },
  {
   "cell_type": "markdown",
   "id": "7f927275",
   "metadata": {},
   "source": [
    "# We create an epoch runner that runs the model and can perform the backpropagation"
   ]
  },
  {
   "cell_type": "code",
   "execution_count": 13,
   "id": "bcb9c585",
   "metadata": {},
   "outputs": [],
   "source": [
    "def run_epoch(dataloader, model, loss_fn, optimizer, is_training = False):\n",
    "    #We stablish the loss to 0 and set the model to train\n",
    "    epoch_loss = 0\n",
    "    if is_training:\n",
    "        model.train()\n",
    "    else:\n",
    "        model.eval()\n",
    "    #We now go trough every batch in the data loader\n",
    "    for batch, (x,y) in enumerate(dataloader):\n",
    "        batchsize = x.shape[0]\n",
    "        #We clear the memory of the graph\n",
    "        optimizer.zero_grad()\n",
    "        #We calculate the output and the loss \n",
    "        out = model(x)\n",
    "        loss = loss_fn(out,y)\n",
    "        #Now if we are training we proceed with backpropagation\n",
    "        if is_training:\n",
    "            loss.backward()\n",
    "            optimizer.step()\n",
    "        #We calculate the loss for the epoch\n",
    "        epoch_loss += (loss.detach().item() / batchsize)\n",
    "        #Finally we return the loss and the model\n",
    "        return epoch_loss, model"
   ]
  },
  {
   "cell_type": "markdown",
   "id": "1d1fca6a",
   "metadata": {},
   "source": [
    "# Model initialization and training loop"
   ]
  },
  {
   "cell_type": "code",
   "execution_count": 14,
   "id": "582384da",
   "metadata": {},
   "outputs": [],
   "source": [
    "input_dim = 1\n",
    "hidden_dim = 32\n",
    "num_layers = 2\n",
    "output_dim = 1\n",
    "epochs = 100\n",
    "dropout_ = 0.2"
   ]
  },
  {
   "cell_type": "code",
   "execution_count": 15,
   "id": "adb7f01d",
   "metadata": {},
   "outputs": [],
   "source": [
    "model = GRU(input_dim=input_dim, hidden_dim=hidden_dim, num_layers=num_layers, output_dim=output_dim, dropout = dropout_)\n",
    "loss = torch.nn.MSELoss()\n",
    "optimizer = torch.optim.Adam(model.parameters(), lr=0.01)"
   ]
  },
  {
   "cell_type": "code",
   "execution_count": 16,
   "id": "d29327d4",
   "metadata": {},
   "outputs": [
    {
     "name": "stdout",
     "output_type": "stream",
     "text": [
      "Epoch 1/100  - loss: 0.0021556164138019085\n",
      "Epoch 2/100  - loss: 0.002469480192909638\n",
      "Epoch 3/100  - loss: 0.0011014705523848534\n",
      "Epoch 4/100  - loss: 2.091485900261129e-05\n",
      "Epoch 5/100  - loss: 0.0003164582303725183\n",
      "Epoch 6/100  - loss: 0.0006345503885919849\n",
      "Epoch 7/100  - loss: 0.00042723165825009346\n",
      "Epoch 8/100  - loss: 0.00011397059036729236\n",
      "Epoch 9/100  - loss: 3.3004778288159287e-07\n",
      "Epoch 10/100  - loss: 9.201045031659305e-05\n",
      "Epoch 11/100  - loss: 0.00021912407828494906\n",
      "Epoch 12/100  - loss: 0.00023836291317517558\n",
      "Epoch 13/100  - loss: 0.00015666362984726825\n",
      "Epoch 14/100  - loss: 5.856990173924714e-05\n",
      "Epoch 15/100  - loss: 5.308758773026057e-06\n",
      "Epoch 16/100  - loss: 6.973137715249322e-06\n",
      "Epoch 17/100  - loss: 4.0645335199466594e-05\n",
      "Epoch 18/100  - loss: 7.557760788283001e-05\n",
      "Epoch 19/100  - loss: 9.049886527160804e-05\n",
      "Epoch 20/100  - loss: 8.034757047425956e-05\n",
      "Epoch 21/100  - loss: 5.3632587272052966e-05\n",
      "Epoch 22/100  - loss: 2.4563186646749575e-05\n",
      "Epoch 23/100  - loss: 5.1122400085053714e-06\n",
      "Epoch 24/100  - loss: 3.9447919183051755e-07\n",
      "Epoch 25/100  - loss: 8.128843546728604e-06\n",
      "Epoch 26/100  - loss: 2.122758936214571e-05\n",
      "Epoch 27/100  - loss: 3.181212377967313e-05\n",
      "Epoch 28/100  - loss: 3.478852401409919e-05\n",
      "Epoch 29/100  - loss: 2.9523243332126487e-05\n",
      "Epoch 30/100  - loss: 1.9199583524217207e-05\n",
      "Epoch 31/100  - loss: 8.61517704227784e-06\n",
      "Epoch 32/100  - loss: 1.7639814965756766e-06\n",
      "Epoch 33/100  - loss: 3.048111049489914e-07\n",
      "Epoch 34/100  - loss: 3.3402463183544264e-06\n",
      "Epoch 35/100  - loss: 8.294410387558552e-06\n",
      "Epoch 36/100  - loss: 1.230923468635107e-05\n",
      "Epoch 37/100  - loss: 1.3497838760182882e-05\n",
      "Epoch 38/100  - loss: 1.1563567871538302e-05\n",
      "Epoch 39/100  - loss: 7.63430883428858e-06\n",
      "Epoch 40/100  - loss: 3.5195968545546443e-06\n",
      "Epoch 41/100  - loss: 8.097508725768421e-07\n",
      "Epoch 42/100  - loss: 2.2700025207692912e-07\n",
      "Epoch 43/100  - loss: 1.4596994333260227e-06\n",
      "Epoch 44/100  - loss: 3.470700903562829e-06\n",
      "Epoch 45/100  - loss: 5.073527669689308e-06\n",
      "Epoch 46/100  - loss: 5.483724332104127e-06\n",
      "Epoch 47/100  - loss: 4.6025852498132735e-06\n",
      "Epoch 48/100  - loss: 2.9447404206924452e-06\n",
      "Epoch 49/100  - loss: 1.2987349388519458e-06\n",
      "Epoch 50/100  - loss: 3.1975866932043573e-07\n",
      "Epoch 51/100  - loss: 2.521261800817835e-07\n",
      "Epoch 52/100  - loss: 8.865432998087878e-07\n",
      "Epoch 53/100  - loss: 1.7327830998207598e-06\n",
      "Epoch 54/100  - loss: 2.2936239171637376e-06\n",
      "Epoch 55/100  - loss: 2.2975117038489166e-06\n",
      "Epoch 56/100  - loss: 1.7880120140034705e-06\n",
      "Epoch 57/100  - loss: 1.050264245350263e-06\n",
      "Epoch 58/100  - loss: 4.345803669518015e-07\n",
      "Epoch 59/100  - loss: 1.7706389598970418e-07\n",
      "Epoch 60/100  - loss: 3.0377251884298556e-07\n",
      "Epoch 61/100  - loss: 6.520308488688897e-07\n",
      "Epoch 62/100  - loss: 9.808702543523395e-07\n",
      "Epoch 63/100  - loss: 1.1028563070188586e-06\n",
      "Epoch 64/100  - loss: 9.685575150797376e-07\n",
      "Epoch 65/100  - loss: 6.683351330138976e-07\n",
      "Epoch 66/100  - loss: 3.632383519895181e-07\n",
      "Epoch 67/100  - loss: 1.9111646073118513e-07\n",
      "Epoch 68/100  - loss: 1.9978563159384066e-07\n",
      "Epoch 69/100  - loss: 3.373112349436269e-07\n",
      "Epoch 70/100  - loss: 4.953744413190483e-07\n",
      "Epoch 71/100  - loss: 5.749384778634218e-07\n",
      "Epoch 72/100  - loss: 5.364470704686634e-07\n",
      "Epoch 73/100  - loss: 4.1065826887158135e-07\n",
      "Epoch 74/100  - loss: 2.704955666861982e-07\n",
      "Epoch 75/100  - loss: 1.8499332554711145e-07\n",
      "Epoch 76/100  - loss: 1.8272214674652787e-07\n",
      "Epoch 77/100  - loss: 2.4297706128587987e-07\n",
      "Epoch 78/100  - loss: 3.1517820768082555e-07\n",
      "Epoch 79/100  - loss: 3.515287971822545e-07\n",
      "Epoch 80/100  - loss: 3.32870589166608e-07\n",
      "Epoch 81/100  - loss: 2.7447312807756436e-07\n",
      "Epoch 82/100  - loss: 2.116680093422474e-07\n",
      "Epoch 83/100  - loss: 1.7657390571912401e-07\n",
      "Epoch 84/100  - loss: 1.8045259745728495e-07\n",
      "Epoch 85/100  - loss: 2.1079807766000158e-07\n",
      "Epoch 86/100  - loss: 2.4246664528012235e-07\n",
      "Epoch 87/100  - loss: 2.542221106220192e-07\n",
      "Epoch 88/100  - loss: 2.403074669625009e-07\n",
      "Epoch 89/100  - loss: 2.1114342037738729e-07\n",
      "Epoch 90/100  - loss: 1.8447749046875592e-07\n",
      "Epoch 91/100  - loss: 1.7369804557650545e-07\n",
      "Epoch 92/100  - loss: 1.8064855566990445e-07\n",
      "Epoch 93/100  - loss: 1.964700118151086e-07\n",
      "Epoch 94/100  - loss: 2.08697599646257e-07\n",
      "Epoch 95/100  - loss: 2.0934063134821676e-07\n",
      "Epoch 96/100  - loss: 1.9893155922545702e-07\n",
      "Epoch 97/100  - loss: 1.8473946283847908e-07\n",
      "Epoch 98/100  - loss: 1.7516769427553905e-07\n",
      "Epoch 99/100  - loss: 1.7440279028354175e-07\n",
      "Epoch 100/100  - loss: 1.805511639455896e-07\n"
     ]
    }
   ],
   "source": [
    "training_loss = []\n",
    "validation_loss = []\n",
    "for epoch in range(epochs):\n",
    "    cost, _ = run_epoch(train, model, loss, optimizer, is_training=True)\n",
    "    training_loss.append(cost)\n",
    "    print(f'Epoch {epoch+1}/100  - loss: {cost}')\n",
    "    cost, _ = run_epoch(test, model, loss, optimizer, is_training=False)\n",
    "    validation_loss.append(cost)"
   ]
  },
  {
   "cell_type": "code",
   "execution_count": 19,
   "id": "12ef6b75",
   "metadata": {},
   "outputs": [
    {
     "data": {
      "image/png": "[encoded data removed]",
      "text/plain": [
       "<Figure size 432x288 with 1 Axes>"
      ]
     },
     "metadata": {
      "needs_background": "light"
     },
     "output_type": "display_data"
    }
   ],
   "source": [
    "#We now want to see a graphical representation of the loss of our model\n",
    "epoch = list(np.linspace(1,100,100,))\n",
    "plt.plot(epoch, training_loss, label = 'Training')\n",
    "plt.plot(epoch,validation_loss, label = 'Validation')\n",
    "plt.xlabel('Epoch')\n",
    "plt.ylabel('Loss')\n",
    "plt.legend()\n",
    "plt.show()\n",
    "plt.close()"
   ]
  },
  {
   "cell_type": "code",
   "execution_count": null,
   "id": "c476f203",
   "metadata": {},
   "outputs": [],
   "source": []
  }
 ],
 "metadata": {
  "kernelspec": {
   "display_name": "Python 3",
   "language": "python",
   "name": "python3"
  },
  "language_info": {
   "codemirror_mode": {
    "name": "ipython",
    "version": 3
   },
   "file_extension": ".py",
   "mimetype": "text/x-python",
   "name": "python",
   "nbconvert_exporter": "python",
   "pygments_lexer": "ipython3",
   "version": "3.8.8"
  }
 },
 "nbformat": 4,
 "nbformat_minor": 5
}
