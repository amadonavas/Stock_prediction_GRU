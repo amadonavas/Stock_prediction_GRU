{
 "cells": [
  {
   "cell_type": "markdown",
   "id": "7df3a0cd",
   "metadata": {},
   "source": [
    "# Import the libraries"
   ]
  },
  {
   "cell_type": "code",
   "execution_count": 1,
   "id": "fe54b26a",
   "metadata": {},
   "outputs": [],
   "source": [
    "import numpy as np\n",
    "import pandas as pd\n",
    "import matplotlib.pyplot as plt\n",
    "import torch \n",
    "import torch.nn as nn\n",
    "from torch.utils.data import Dataset, DataLoader"
   ]
  },
  {
   "cell_type": "markdown",
   "id": "2997c522",
   "metadata": {},
   "source": [
    "# Import the data and conduct a study of it's health"
   ]
  },
  {
   "cell_type": "code",
   "execution_count": 2,
   "id": "2ce64c2e",
   "metadata": {},
   "outputs": [
    {
     "name": "stdout",
     "output_type": "stream",
     "text": [
      "<class 'pandas.core.frame.DataFrame'>\n",
      "RangeIndex: 10680 entries, 0 to 10679\n",
      "Data columns (total 7 columns):\n",
      " #   Column          Non-Null Count  Dtype  \n",
      "---  ------          --------------  -----  \n",
      " 0   Date            10680 non-null  object \n",
      " 1   Low             10680 non-null  float64\n",
      " 2   Open            10680 non-null  float64\n",
      " 3   Volume          10680 non-null  int64  \n",
      " 4   High            10680 non-null  float64\n",
      " 5   Close           10680 non-null  float64\n",
      " 6   Adjusted Close  10680 non-null  float64\n",
      "dtypes: float64(5), int64(1), object(1)\n",
      "memory usage: 584.2+ KB\n"
     ]
    }
   ],
   "source": [
    "#We'll be conducting a study of the JP Morgan stock, we proceed to load it\n",
    "data = pd.read_csv('./stock_market_data/nyse/csv/JPM.csv')\n",
    "data.info()"
   ]
  },
  {
   "cell_type": "code",
   "execution_count": 3,
   "id": "1eda37ab",
   "metadata": {},
   "outputs": [],
   "source": [
    "#Only select the closing price as a target\n",
    "data_target = data.Close"
   ]
  },
  {
   "cell_type": "code",
   "execution_count": 4,
   "id": "3687d66e",
   "metadata": {},
   "outputs": [
    {
     "data": {
      "image/png": "[encoded data removed]",
      "text/plain": [
       "<Figure size 432x288 with 1 Axes>"
      ]
     },
     "metadata": {
      "needs_background": "light"
     },
     "output_type": "display_data"
    }
   ],
   "source": [
    "#See the data graphically\n",
    "plt.plot(data_target, label = 'Price')\n",
    "plt.show()\n",
    "plt.close()"
   ]
  },
  {
   "cell_type": "code",
   "execution_count": 5,
   "id": "e4eb999d",
   "metadata": {},
   "outputs": [],
   "source": [
    "#Data normalization\n",
    "max_value = data_target.max()\n",
    "min_value = data_target.min()\n",
    "normalized_data = (data_target - min_value)/(max_value)\n",
    "normalized_data = normalized_data.values.reshape(-1,1)"
   ]
  },
  {
   "cell_type": "code",
   "execution_count": 6,
   "id": "0ed29c44",
   "metadata": {},
   "outputs": [],
   "source": [
    "#Function to reverse the normalization\n",
    "def denormalizer(value):\n",
    "    return (value*max_value) + min_value"
   ]
  },
  {
   "cell_type": "markdown",
   "id": "d0439433",
   "metadata": {},
   "source": [
    "# Separate the data in train and test as well as create the sequences"
   ]
  },
  {
   "cell_type": "code",
   "execution_count": 7,
   "id": "0d48240d",
   "metadata": {},
   "outputs": [],
   "source": [
    "#Create a function that splits the data in 80-20 for train and test as well as create the sequences.\n",
    "#it will also turn the data into numpy arrray to later be turned into a torch.tensor\n",
    "def preparer(dataset, lookback):\n",
    "    data_raw = dataset\n",
    "    data =[]\n",
    "    for index in range(len(data_raw)-lookback):\n",
    "        data.append(data_raw[index:index+lookback])\n",
    "        \n",
    "    data = np.array(data);\n",
    "    test_set_size = int(np.round(0.2*data.shape[0]));\n",
    "    train_set_size = data.shape[0] - (test_set_size);\n",
    "    \n",
    "    data = np.array(data)\n",
    "    x_train = data[:train_set_size,:-1]\n",
    "    y_train = data[:train_set_size,-1]\n",
    "    \n",
    "    x_test = data[train_set_size:,:-1]\n",
    "    y_test = data[train_set_size:,-1]\n",
    "    \n",
    "    return [x_train, y_train, x_test, y_test]"
   ]
  },
  {
   "cell_type": "code",
   "execution_count": 8,
   "id": "29e7b208",
   "metadata": {},
   "outputs": [],
   "source": [
    "lookback = 30 # we chose a sequence lenght of 30 to make it about a month of prediction\n",
    "x_train, y_train, x_test, y_test = preparer(normalized_data, lookback)"
   ]
  },
  {
   "cell_type": "code",
   "execution_count": 9,
   "id": "b9caa7b3",
   "metadata": {},
   "outputs": [
    {
     "name": "stdout",
     "output_type": "stream",
     "text": [
      "x_train.shape =  (8520, 29, 1)\n",
      "y_train.shape =  (8520, 1)\n",
      "x_test.shape =  (2130, 29, 1)\n",
      "y_test.shape =  (2130, 1)\n"
     ]
    }
   ],
   "source": [
    "print('x_train.shape = ',x_train.shape)\n",
    "print('y_train.shape = ',y_train.shape)\n",
    "print('x_test.shape = ',x_test.shape)\n",
    "print('y_test.shape = ',y_test.shape)"
   ]
  },
  {
   "cell_type": "markdown",
   "id": "b2341a95",
   "metadata": {},
   "source": [
    "# Custom dataset that transforms into tensors"
   ]
  },
  {
   "cell_type": "code",
   "execution_count": 10,
   "id": "9858bfc2",
   "metadata": {},
   "outputs": [],
   "source": [
    "class StockDataset(Dataset):\n",
    "    def __init__(self, x, y):\n",
    "        self.x = torch.from_numpy(x).float()\n",
    "        self.y = torch.from_numpy(y).float()\n",
    "        #self.y = torch.unsqueeze(torch.from_numpy(y), dim = -1).float()\n",
    "        \n",
    "    def __len__(self):\n",
    "        return len(self.y)\n",
    "    \n",
    "    def __getitem__(self, idx):\n",
    "        return (self.x[idx], self.y[idx])"
   ]
  },
  {
   "cell_type": "code",
   "execution_count": 11,
   "id": "95c32636",
   "metadata": {},
   "outputs": [],
   "source": [
    "#Dataset and dataloaders instances using the greatest common divisor for the batch size\n",
    "train_dataset = StockDataset(x_train,y_train)\n",
    "test_dataset = StockDataset(x_test, y_test)\n",
    "train = DataLoader(train_dataset, batch_size = 6)\n",
    "test = DataLoader(test_dataset, batch_size = 6)"
   ]
  },
  {
   "cell_type": "markdown",
   "id": "d2b3f740",
   "metadata": {},
   "source": [
    "# GRU class "
   ]
  },
  {
   "cell_type": "code",
   "execution_count": 12,
   "id": "225b7784",
   "metadata": {},
   "outputs": [],
   "source": [
    "class GRU(nn.Module):\n",
    "    def __init__(self, input_dim, hidden_dim, num_layers, output_dim, dropout = 0):\n",
    "        super(GRU, self).__init__()\n",
    "        self.input_dim = input_dim\n",
    "        self.hidden_dim = hidden_dim\n",
    "        self.num_layers = num_layers\n",
    "        self.dropout = dropout\n",
    "        self.output_dim = output_dim\n",
    "        \n",
    "        self.gru = nn.GRU(input_dim, hidden_dim, num_layers, batch_first=True, dropout = 0)\n",
    "        self.fc = nn.Linear(hidden_dim, output_dim)\n",
    "\n",
    "    def forward(self, x):\n",
    "        h0 = torch.zeros(self.num_layers, x.size(0), self.hidden_dim).requires_grad_()\n",
    "        out, (hn) = self.gru(x, (h0.detach()))\n",
    "        out = self.fc(out[:, -1]) \n",
    "        return out"
   ]
  },
  {
   "cell_type": "markdown",
   "id": "7f927275",
   "metadata": {},
   "source": [
    "# Epoch runner that runs the model and can perform the backpropagation"
   ]
  },
  {
   "cell_type": "code",
   "execution_count": 13,
   "id": "bcb9c585",
   "metadata": {},
   "outputs": [],
   "source": [
    "def run_epoch(dataloader, model, loss_fn, optimizer, is_training = False):\n",
    "    #Stablish the loss to 0 and set the model to train\n",
    "    epoch_loss = 0\n",
    "    if is_training:\n",
    "        model.train()\n",
    "    else:\n",
    "        model.eval()\n",
    "    #Go trough every batch in the data loader\n",
    "    for batch, (x,y) in enumerate(dataloader):\n",
    "        batchsize = x.shape[0]\n",
    "        #Clear the memory of the graph\n",
    "        optimizer.zero_grad()\n",
    "        #Calculate the output and the loss \n",
    "        out = model(x)\n",
    "        loss = loss_fn(out,y)\n",
    "        #Now if we are training we proceed with backpropagation\n",
    "        if is_training:\n",
    "            loss.backward()\n",
    "            optimizer.step()\n",
    "        #Calculate the loss for the epoch\n",
    "        epoch_loss += (loss.detach().item() / batchsize)\n",
    "        #Finally return the loss and the model\n",
    "        return epoch_loss, model"
   ]
  },
  {
   "cell_type": "markdown",
   "id": "1d1fca6a",
   "metadata": {},
   "source": [
    "# Model initialization and training loop"
   ]
  },
  {
   "cell_type": "code",
   "execution_count": 14,
   "id": "582384da",
   "metadata": {},
   "outputs": [],
   "source": [
    "input_dim = 1\n",
    "hidden_dim = 32\n",
    "num_layers = 2\n",
    "output_dim = 1\n",
    "epochs = 100\n",
    "dropout_ = 0.2"
   ]
  },
  {
   "cell_type": "code",
   "execution_count": 15,
   "id": "adb7f01d",
   "metadata": {},
   "outputs": [],
   "source": [
    "model = GRU(input_dim=input_dim, hidden_dim=hidden_dim, num_layers=num_layers, output_dim=output_dim, dropout = dropout_)\n",
    "loss = torch.nn.MSELoss()\n",
    "optimizer = torch.optim.Adam(model.parameters(), lr=0.01)"
   ]
  },
  {
   "cell_type": "code",
   "execution_count": 16,
   "id": "d29327d4",
   "metadata": {},
   "outputs": [
    {
     "name": "stdout",
     "output_type": "stream",
     "text": [
      "Epoch 1/100  - loss: 0.0014152868340412776\n",
      "Epoch 2/100  - loss: 0.006552521760265033\n",
      "Epoch 3/100  - loss: 0.0005856252973899245\n",
      "Epoch 4/100  - loss: 0.0004187665181234479\n",
      "Epoch 5/100  - loss: 0.0013975679563979309\n",
      "Epoch 6/100  - loss: 0.0011001704260706902\n",
      "Epoch 7/100  - loss: 0.00039993564132601023\n",
      "Epoch 8/100  - loss: 2.0720649141973507e-05\n",
      "Epoch 9/100  - loss: 8.892623979287843e-05\n",
      "Epoch 10/100  - loss: 0.0003416286005328099\n",
      "Epoch 11/100  - loss: 0.00043051775234440964\n",
      "Epoch 12/100  - loss: 0.00029966361277426284\n",
      "Epoch 13/100  - loss: 0.00011047923665804167\n",
      "Epoch 14/100  - loss: 6.799139252204138e-06\n",
      "Epoch 15/100  - loss: 2.2862438830391813e-05\n",
      "Epoch 16/100  - loss: 0.00010539214902867873\n",
      "Epoch 17/100  - loss: 0.00017265143105760217\n",
      "Epoch 18/100  - loss: 0.00017547093254203597\n",
      "Epoch 19/100  - loss: 0.00012162297692460318\n",
      "Epoch 20/100  - loss: 5.2687168742219605e-05\n",
      "Epoch 21/100  - loss: 7.83543691795785e-06\n",
      "Epoch 22/100  - loss: 2.8440626920200884e-06\n",
      "Epoch 23/100  - loss: 2.825875465835755e-05\n",
      "Epoch 24/100  - loss: 6.025488255545497e-05\n",
      "Epoch 25/100  - loss: 7.658016693312675e-05\n",
      "Epoch 26/100  - loss: 6.887768783296148e-05\n",
      "Epoch 27/100  - loss: 4.440852596114079e-05\n",
      "Epoch 28/100  - loss: 1.80999862398797e-05\n",
      "Epoch 29/100  - loss: 2.4055878687552954e-06\n",
      "Epoch 30/100  - loss: 1.4915215918639053e-06\n",
      "Epoch 31/100  - loss: 1.1329574287325764e-05\n",
      "Epoch 32/100  - loss: 2.3684459544407826e-05\n",
      "Epoch 33/100  - loss: 3.101758435756589e-05\n",
      "Epoch 34/100  - loss: 2.989713054072733e-05\n",
      "Epoch 35/100  - loss: 2.1735230499568086e-05\n",
      "Epoch 36/100  - loss: 1.1108146281912923e-05\n",
      "Epoch 37/100  - loss: 2.956777279905509e-06\n",
      "Epoch 38/100  - loss: 1.778692724959304e-07\n",
      "Epoch 39/100  - loss: 2.612643887308271e-06\n",
      "Epoch 40/100  - loss: 7.64510756804763e-06\n",
      "Epoch 41/100  - loss: 1.1888521839864552e-05\n",
      "Epoch 42/100  - loss: 1.2993517884751782e-05\n",
      "Epoch 43/100  - loss: 1.064589984404544e-05\n",
      "Epoch 44/100  - loss: 6.354744376343054e-06\n",
      "Epoch 45/100  - loss: 2.3461733083725753e-06\n",
      "Epoch 46/100  - loss: 3.0737927166531637e-07\n",
      "Epoch 47/100  - loss: 6.513813180693736e-07\n",
      "Epoch 48/100  - loss: 2.557989015864829e-06\n",
      "Epoch 49/100  - loss: 4.609402518932863e-06\n",
      "Epoch 50/100  - loss: 5.595255667382541e-06\n",
      "Epoch 51/100  - loss: 5.068725234499046e-06\n",
      "Epoch 52/100  - loss: 3.4307049645576626e-06\n",
      "Epoch 53/100  - loss: 1.582691462923928e-06\n",
      "Epoch 54/100  - loss: 3.890651214533136e-07\n",
      "Epoch 55/100  - loss: 2.445783593429951e-07\n",
      "Epoch 56/100  - loss: 9.474508715356933e-07\n",
      "Epoch 57/100  - loss: 1.8986434042744804e-06\n",
      "Epoch 58/100  - loss: 2.4784687108573658e-06\n",
      "Epoch 59/100  - loss: 2.3767747734382283e-06\n",
      "Epoch 60/100  - loss: 1.7063813781229935e-06\n",
      "Epoch 61/100  - loss: 8.705865942223076e-07\n",
      "Epoch 62/100  - loss: 2.9594548323075287e-07\n",
      "Epoch 63/100  - loss: 1.97996238663715e-07\n",
      "Epoch 64/100  - loss: 5.013418634310559e-07\n",
      "Epoch 65/100  - loss: 9.306828208840064e-07\n",
      "Epoch 66/100  - loss: 1.1943175953395742e-06\n",
      "Epoch 67/100  - loss: 1.1454745466229117e-06\n",
      "Epoch 68/100  - loss: 8.377787708013784e-07\n",
      "Epoch 69/100  - loss: 4.617923347420098e-07\n",
      "Epoch 70/100  - loss: 2.1617285028696642e-07\n",
      "Epoch 71/100  - loss: 1.9479620050333324e-07\n",
      "Epoch 72/100  - loss: 3.505990662233671e-07\n",
      "Epoch 73/100  - loss: 5.452146751849796e-07\n",
      "Epoch 74/100  - loss: 6.432881794656472e-07\n",
      "Epoch 75/100  - loss: 5.902344734446766e-07\n",
      "Epoch 76/100  - loss: 4.3045508846262237e-07\n",
      "Epoch 77/100  - loss: 2.644938869404238e-07\n",
      "Epoch 78/100  - loss: 1.8019513466545808e-07\n",
      "Epoch 79/100  - loss: 2.0277864602273135e-07\n",
      "Epoch 80/100  - loss: 2.9051581880897476e-07\n",
      "Epoch 81/100  - loss: 3.7095939357338165e-07\n",
      "Epoch 82/100  - loss: 3.895117212474967e-07\n",
      "Epoch 83/100  - loss: 3.391541364787069e-07\n",
      "Epoch 84/100  - loss: 2.5658658842075965e-07\n",
      "Epoch 85/100  - loss: 1.9243208271291223e-07\n",
      "Epoch 86/100  - loss: 1.7780132566258544e-07\n",
      "Epoch 87/100  - loss: 2.082872849011134e-07\n",
      "Epoch 88/100  - loss: 2.5260646907554474e-07\n",
      "Epoch 89/100  - loss: 2.7664145818562247e-07\n",
      "Epoch 90/100  - loss: 2.6536561866426683e-07\n",
      "Epoch 91/100  - loss: 2.2908036119891526e-07\n",
      "Epoch 92/100  - loss: 1.9252848915130016e-07\n",
      "Epoch 93/100  - loss: 1.765569663803035e-07\n",
      "Epoch 94/100  - loss: 1.8537142902156725e-07\n",
      "Epoch 95/100  - loss: 2.0666370422380473e-07\n",
      "Epoch 96/100  - loss: 2.2240971020437428e-07\n",
      "Epoch 97/100  - loss: 2.2155558099257178e-07\n",
      "Epoch 98/100  - loss: 2.0604124983947258e-07\n",
      "Epoch 99/100  - loss: 1.8727373192935678e-07\n",
      "Epoch 100/100  - loss: 1.769611799318227e-07\n"
     ]
    }
   ],
   "source": [
    "training_loss = []\n",
    "validation_loss = []\n",
    "for epoch in range(epochs):\n",
    "    cost, _ = run_epoch(train, model, loss, optimizer, is_training=True)\n",
    "    training_loss.append(cost)\n",
    "    print(f'Epoch {epoch+1}/100  - loss: {cost}')\n",
    "    cost, _ = run_epoch(test, model, loss, optimizer, is_training=False)\n",
    "    validation_loss.append(cost)"
   ]
  },
  {
   "cell_type": "code",
   "execution_count": 17,
   "id": "12ef6b75",
   "metadata": {},
   "outputs": [
    {
     "data": {
      "image/png": "[encoded data removed]",
      "text/plain": [
       "<Figure size 432x288 with 1 Axes>"
      ]
     },
     "metadata": {
      "needs_background": "light"
     },
     "output_type": "display_data"
    }
   ],
   "source": [
    "#We now want to see a graphical representation of the loss of our model\n",
    "epoch = list(np.linspace(1,100,100,))\n",
    "plt.plot(epoch, training_loss, label = 'Training')\n",
    "plt.plot(epoch,validation_loss, label = 'Validation')\n",
    "plt.xlabel('Epoch')\n",
    "plt.ylabel('Loss')\n",
    "plt.legend()\n",
    "plt.show()\n",
    "plt.close()"
   ]
  },
  {
   "cell_type": "code",
   "execution_count": null,
   "id": "c476f203",
   "metadata": {},
   "outputs": [],
   "source": []
  }
 ],
 "metadata": {
  "kernelspec": {
   "display_name": "Python 3",
   "language": "python",
   "name": "python3"
  },
  "language_info": {
   "codemirror_mode": {
    "name": "ipython",
    "version": 3
   },
   "file_extension": ".py",
   "mimetype": "text/x-python",
   "name": "python",
   "nbconvert_exporter": "python",
   "pygments_lexer": "ipython3",
   "version": "3.8.8"
  }
 },
 "nbformat": 4,
 "nbformat_minor": 5
}
